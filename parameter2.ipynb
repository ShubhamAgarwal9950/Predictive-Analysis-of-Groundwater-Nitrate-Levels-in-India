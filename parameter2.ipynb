{
 "cells": [
  {
   "cell_type": "code",
   "execution_count": 2,
   "id": "d8c0e74e",
   "metadata": {},
   "outputs": [
    {
     "name": "stdout",
     "output_type": "stream",
     "text": [
      "Top 15 important features:\n",
      " EC (µS/cm at              0.395906\n",
      "pH GW                     0.284662\n",
      "pet                       0.122523\n",
      "Latitude_1                0.074985\n",
      "Longitude_1               0.052279\n",
      "alpha_Priestley_Taylor    0.039954\n",
      "aet                       0.011104\n",
      "aridity                   0.005323\n",
      "precip                    0.003963\n",
      "fluvisols                 0.002512\n",
      "silt_subsoil              0.001641\n",
      "sand_subsoil              0.000904\n",
      "organic_carbon            0.000602\n",
      "twi                       0.000475\n",
      "solonchaks                0.000388\n",
      "dtype: float64\n"
     ]
    }
   ],
   "source": [
    "import pandas as pd\n",
    "from sklearn.ensemble import RandomForestRegressor\n",
    "from sklearn.model_selection import train_test_split\n",
    "df=pd.read_excel('WORK.xlsx')\n",
    "# Features and target\n",
    "X = df.drop(columns=['NO3'])\n",
    "y = df['NO3']\n",
    "\n",
    "# Train/test split\n",
    "X_train, X_test, y_train, y_test = train_test_split(X, y, test_size=0.2, random_state=42)\n",
    "\n",
    "# Train model\n",
    "rf = RandomForestRegressor(n_estimators=100, random_state=42)\n",
    "rf.fit(X_train, y_train)\n",
    "\n",
    "# Feature importance\n",
    "importances = pd.Series(rf.feature_importances_, index=X.columns)\n",
    "importances = importances.sort_values(ascending=False)\n",
    "print(\"Top 15 important features:\\n\", importances.head(15))\n"
   ]
  }
 ],
 "metadata": {
  "kernelspec": {
   "display_name": "Python 3",
   "language": "python",
   "name": "python3"
  },
  "language_info": {
   "codemirror_mode": {
    "name": "ipython",
    "version": 3
   },
   "file_extension": ".py",
   "mimetype": "text/x-python",
   "name": "python",
   "nbconvert_exporter": "python",
   "pygments_lexer": "ipython3",
   "version": "3.12.3"
  }
 },
 "nbformat": 4,
 "nbformat_minor": 5
}
