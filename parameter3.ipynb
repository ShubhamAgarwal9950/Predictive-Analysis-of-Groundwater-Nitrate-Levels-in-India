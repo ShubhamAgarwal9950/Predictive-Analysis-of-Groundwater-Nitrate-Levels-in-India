{
 "cells": [
  {
   "cell_type": "code",
   "execution_count": 2,
   "id": "01bb833d",
   "metadata": {},
   "outputs": [
    {
     "name": "stdout",
     "output_type": "stream",
     "text": [
      "Top 11 selected features:\n",
      " ['Latitude_1', 'Longitude_1', 'pH GW', 'EC (µS/cm at', 'pet', 'precip', 'aridity', 'aet', 'alpha_Priestley_Taylor', 'silt_subsoil', 'fluvisols']\n"
     ]
    }
   ],
   "source": [
    "import pandas as pd\n",
    "from sklearn.ensemble import RandomForestRegressor\n",
    "from sklearn.model_selection import train_test_split\n",
    "from sklearn.feature_selection import RFE\n",
    "df=pd.read_excel('WORK.xlsx')\n",
    "# Use RandomForest as estimator\n",
    "X = df.drop(columns=['NO3'])  # Features\n",
    "y = df['NO3']  # Target\n",
    "\n",
    "# Split into training and test sets\n",
    "X_train, X_test, y_train, y_test = train_test_split(X, y, test_size=0.2, random_state=42)\n",
    "\n",
    "# Apply RFE\n",
    "selector = RFE(estimator=RandomForestRegressor(), n_features_to_select=11)\n",
    "selector = selector.fit(X_train, y_train)\n",
    "\n",
    "# Get selected features\n",
    "selected_features = X.columns[selector.support_]\n",
    "print(\"Top 11 selected features:\\n\", selected_features.tolist())"
   ]
  }
 ],
 "metadata": {
  "kernelspec": {
   "display_name": "Python 3",
   "language": "python",
   "name": "python3"
  },
  "language_info": {
   "codemirror_mode": {
    "name": "ipython",
    "version": 3
   },
   "file_extension": ".py",
   "mimetype": "text/x-python",
   "name": "python",
   "nbconvert_exporter": "python",
   "pygments_lexer": "ipython3",
   "version": "3.12.3"
  }
 },
 "nbformat": 4,
 "nbformat_minor": 5
}
