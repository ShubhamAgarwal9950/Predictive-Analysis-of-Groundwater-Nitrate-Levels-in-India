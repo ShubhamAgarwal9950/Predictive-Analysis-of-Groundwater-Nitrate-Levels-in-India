{
 "cells": [
  {
   "cell_type": "code",
   "execution_count": 12,
   "id": "65015b29",
   "metadata": {},
   "outputs": [
    {
     "name": "stdout",
     "output_type": "stream",
     "text": [
      "Top 15 correlated features:\n",
      " NO3                       1.000000\n",
      "EC (µS/cm at              0.492388\n",
      "pH GW                    -0.320588\n",
      "aet                      -0.115518\n",
      "alpha_Priestley_Taylor   -0.108234\n",
      "aridity                   0.106537\n",
      "precip                   -0.105177\n",
      "temp                     -0.093256\n",
      "Latitude_1                0.091847\n",
      "Unnamed: 4                0.090222\n",
      "gleysols                 -0.071731\n",
      "pH_subsoil                0.067096\n",
      "Longitude_1              -0.063496\n",
      "silt_subsoil             -0.060110\n",
      "sand_topsoil              0.056337\n",
      "Name: NO3, dtype: float64\n"
     ]
    }
   ],
   "source": [
    "import pandas as pd\n",
    "df=pd.read_excel('WORK.xlsx')\n",
    "correlation = df.corr(numeric_only=True)\n",
    "\n",
    "# Sort features by correlation with NO3\n",
    "corr_with_no3 = correlation['NO3'].sort_values(key=abs, ascending=False)\n",
    "print(\"Top 15 correlated features:\\n\", corr_with_no3.head(15))\n",
    "\n",
    "\n",
    "\n"
   ]
  }
 ],
 "metadata": {
  "kernelspec": {
   "display_name": "Python 3",
   "language": "python",
   "name": "python3"
  },
  "language_info": {
   "codemirror_mode": {
    "name": "ipython",
    "version": 3
   },
   "file_extension": ".py",
   "mimetype": "text/x-python",
   "name": "python",
   "nbconvert_exporter": "python",
   "pygments_lexer": "ipython3",
   "version": "3.12.3"
  }
 },
 "nbformat": 4,
 "nbformat_minor": 5
}
